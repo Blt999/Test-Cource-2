{
 "cells": [
  {
   "cell_type": "markdown",
   "id": "bd0a0b67-a986-46c9-9159-49a650200b67",
   "metadata": {},
   "source": [
    "# Data Science Tools and Ecosystem"
   ]
  },
  {
   "cell_type": "markdown",
   "id": "8151c22a-6ba1-4459-9736-19f1ea82c7a7",
   "metadata": {},
   "source": [
    "In this notebook, Data Science Tools and Ecosystem are summarized."
   ]
  },
  {
   "cell_type": "markdown",
   "id": "83af10cf-ebc4-45e8-b217-4c2f4d46a4e8",
   "metadata": {},
   "source": [
    "Objectives:\n",
    "* Popular languages among Data Scientists\n",
    "* Commonly used libraries by data scientists\n",
    "* A table of popular data science tools\n",
    "* Arithmetic Expressions python can calculate"
   ]
  },
  {
   "cell_type": "markdown",
   "id": "29bfa78b-9c30-4268-9f15-18f4ca6dcb7a",
   "metadata": {},
   "source": [
    "Some of the popular languages that Data Scientists use are:\n",
    "1. Python\n",
    "2. R\n",
    "3. SQL\n",
    "4. Java\n",
    "5. Julia\n",
    "6. Scala"
   ]
  },
  {
   "cell_type": "markdown",
   "id": "6a1eb244-1940-442e-8002-45d7b117501d",
   "metadata": {},
   "source": [
    "Some of the commonly used libraries used by Data Scientists include:\n",
    "1. TensorFlow\n",
    "2. NumPy\n",
    "3. SciPy \n",
    "4. Pandas\n",
    "5. Matplotlib "
   ]
  },
  {
   "cell_type": "markdown",
   "id": "ed9a4b51-7b02-4628-b853-69d894011fc2",
   "metadata": {},
   "source": [
    "| Data Science Tools | \n",
    "| -------------      |\n",
    "| Apache Spark       |      \n",
    "| TensorFlow         |  \n",
    "| Apache Hadoop      | "
   ]
  },
  {
   "cell_type": "markdown",
   "id": "9fbbafd3-36cb-4f39-a361-d4bf2ebcd293",
   "metadata": {},
   "source": [
    "### Below are a few examples of evaluating arithmetic expressions in Python"
   ]
  },
  {
   "cell_type": "code",
   "execution_count": 10,
   "id": "40abcc7b-5525-47ba-9c4e-20f50d1cb521",
   "metadata": {},
   "outputs": [
    {
     "name": "stdout",
     "output_type": "stream",
     "text": [
      "4 4\n",
      "11 3\n"
     ]
    }
   ],
   "source": [
    "q = 40 // 9\n",
    "mod = 40 % 9\n",
    "print(q, mod)\n",
    "\n",
    "r = 80 // 7\n",
    "mog = 80 % 7\n",
    "print(r, mog)"
   ]
  },
  {
   "cell_type": "markdown",
   "id": "ab2b8327-33d9-418d-8dc8-dbf60ba94cf6",
   "metadata": {},
   "source": [
    "This a simple arithmetic expression to mutiply then add integers"
   ]
  },
  {
   "cell_type": "code",
   "execution_count": 11,
   "id": "2db14685-d2d3-4fa7-9501-3221a78c015e",
   "metadata": {},
   "outputs": [
    {
     "data": {
      "text/plain": [
       "17"
      ]
     },
     "execution_count": 11,
     "metadata": {},
     "output_type": "execute_result"
    }
   ],
   "source": [
    "(3*4)+5"
   ]
  },
  {
   "cell_type": "markdown",
   "id": "9634a423-ac32-44a6-adc3-0806c9df85c1",
   "metadata": {},
   "source": [
    "This will convert 200 minutes to hours by diving by 60"
   ]
  },
  {
   "cell_type": "code",
   "execution_count": 13,
   "id": "827efe4f-3e4a-4b0c-afd0-5e5e16c471c7",
   "metadata": {},
   "outputs": [
    {
     "data": {
      "text/plain": [
       "3.3333333333333335"
      ]
     },
     "execution_count": 13,
     "metadata": {},
     "output_type": "execute_result"
    }
   ],
   "source": [
    "200/60"
   ]
  },
  {
   "cell_type": "markdown",
   "id": "476afb59-79c6-4cc3-bc78-703495e9ee83",
   "metadata": {},
   "source": [
    "## Author\n",
    "Kai Ito"
   ]
  }
 ],
 "metadata": {
  "kernelspec": {
   "display_name": "Python",
   "language": "python",
   "name": "conda-env-python-py"
  },
  "language_info": {
   "codemirror_mode": {
    "name": "ipython",
    "version": 3
   },
   "file_extension": ".py",
   "mimetype": "text/x-python",
   "name": "python",
   "nbconvert_exporter": "python",
   "pygments_lexer": "ipython3",
   "version": "3.7.12"
  }
 },
 "nbformat": 4,
 "nbformat_minor": 5
}
